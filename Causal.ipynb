{
 "cells": [
  {
   "cell_type": "code",
   "execution_count": 1,
   "metadata": {},
   "outputs": [],
   "source": [
    "import nltk"
   ]
  },
  {
   "cell_type": "code",
   "execution_count": 26,
   "metadata": {},
   "outputs": [],
   "source": [
    "fb_sents = nltk.corpus.gutenberg.sents('chesterton-brown.txt')\n",
    "fb_words = nltk.corpus.gutenberg.words('chesterton-brown.txt')"
   ]
  },
  {
   "cell_type": "code",
   "execution_count": 44,
   "metadata": {},
   "outputs": [],
   "source": [
    "causal_words = ['because', 'thus', 'therefore', 'leads', 'causes']"
   ]
  },
  {
   "cell_type": "code",
   "execution_count": 59,
   "metadata": {},
   "outputs": [],
   "source": [
    "causal_sents = []\n",
    "\n",
    "for sent in fb_sents:\n",
    "    check =  any(item in causal_words for item in sent)\n",
    "    if check:\n",
    "        causal_sents.append(sent)\n",
    "    "
   ]
  },
  {
   "cell_type": "code",
   "execution_count": 67,
   "metadata": {},
   "outputs": [
    {
     "data": {
      "text/plain": [
       "['I',\n",
       " 'did',\n",
       " 'not',\n",
       " 'do',\n",
       " 'it',\n",
       " 'because',\n",
       " 'Mr',\n",
       " 'Todhunter',\n",
       " 'can',\n",
       " 'set',\n",
       " 'himself',\n",
       " 'free',\n",
       " 'from',\n",
       " 'them',\n",
       " 'at',\n",
       " 'any',\n",
       " 'minute',\n",
       " 'he',\n",
       " 'chooses',\n",
       " '.\"']"
      ]
     },
     "execution_count": 67,
     "metadata": {},
     "output_type": "execute_result"
    }
   ],
   "source": [
    "causal_sents[4]"
   ]
  },
  {
   "cell_type": "code",
   "execution_count": null,
   "metadata": {},
   "outputs": [],
   "source": []
  }
 ],
 "metadata": {
  "kernelspec": {
   "display_name": "Python 3",
   "language": "python",
   "name": "python3"
  },
  "language_info": {
   "codemirror_mode": {
    "name": "ipython",
    "version": 3
   },
   "file_extension": ".py",
   "mimetype": "text/x-python",
   "name": "python",
   "nbconvert_exporter": "python",
   "pygments_lexer": "ipython3",
   "version": "3.7.4"
  }
 },
 "nbformat": 4,
 "nbformat_minor": 2
}
